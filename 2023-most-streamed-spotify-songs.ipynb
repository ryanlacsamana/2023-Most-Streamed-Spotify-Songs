{
 "cells": [
  {
   "cell_type": "markdown",
   "metadata": {},
   "source": [
    "## **Most Streamed Spotify Songs 2023**"
   ]
  },
  {
   "cell_type": "markdown",
   "metadata": {},
   "source": [
    "### Introduction\n",
    "\n",
    "The dataset contains lists of the most popular songs from the music streaming app **Spotify**. This dataset contains information for the track title, track artist(s), release date, musical ratings, BPM, musical keys, and streaming performance from other platforms such as Apple Music, Deezer, and Shazam.\n",
    "\n",
    "The dataset's summary of features are shown below:\n",
    "\n",
    "Column Name | Description |\n",
    "-----|-----|\n",
    "track_name  |name of the song|\n",
    "artist(s)_name |name of the artist(s) of the song|\n",
    "artist_count |number of artists contributing to the song|\n",
    "released_year   |year the song is released|\n",
    "released_month  |month the song is released|\n",
    "released_day    |day of the month the song is released|\n",
    "in_spotify_playlists    |number of Spotify playlists the songs is included in|\n",
    "in_spotify_charts   |presence and rank of the song in Spotify charts|\n",
    "streams |total number of streams in Spotify|\n",
    "in_apple_playlists    |number of Apple Music playlists the songs is included in|\n",
    "in_apple_charts   |presence and rank of the song in Apple Music charts|\n",
    "in_deezer_playlists    |number of Deezer playlists the songs is included in|\n",
    "in_deezer_charts   |presence and rank of the song in Deezer charts|\n",
    "in_shazam_charts   |presence and rank of the song in Shazam charts|\n",
    "bpm |Beats per Minute, a measure of song tempo|\n",
    "key |key of the song|\n",
    "mode    |mode of the song (Major or Minor)|\n",
    "danceability_%  |percentage indicating how suitable the song is for dancing|\n",
    "valence_%   |positivity of the song's musical content|\n",
    "energy_%    |perceived energy level of the song|\n",
    "acousticness_%  |amount of acoustic sound in the song|\n",
    "instrumentalness_%  |amount of instrumental content in the song|\n",
    "liveness_%  |presence of live performance elements|\n",
    "speechiness_%   |amount of spoken words in the song|\n",
    "\n",
    "\n",
    "\n",
    "**Additional Notes for Musical Ratings**\n",
    "\n",
    "- danceability_% - A value of 0 is least danceable, and 100 as most danceable.\n",
    "- valence_% - Low valence sound more negative (e.g: sad, depressing, angry), while high valence sound more positive (e.g: happy, cheerful, euphoric)\n",
    "- energy_% - Higher value sounds more energetic.\n",
    "- acousticness_% - 100 represents high confidence the track is acoustic.\n",
    "- instrumentalness_% - The closer the instrumentalness values is to 100, the greater likelihood the track contains no vocal content (ooh and aah sounds are treated as instrumental). Values above 50 are intended to represent instrumental tracks.\n",
    "- liveness_% - higher liveness values represent an increased probability that the track is performed live. A value above 80 provides strong likelihood that the track is live.\n",
    "- speechiness_% - Values above 66 describe tracks that are probably made entirely of spoken words. Values between 33 and 66 describe tracks that may contain both music and speech, including rap music."
   ]
  },
  {
   "cell_type": "markdown",
   "metadata": {},
   "source": [
    "### Import Libraries and Dataset"
   ]
  },
  {
   "cell_type": "code",
   "execution_count": 1,
   "metadata": {},
   "outputs": [],
   "source": [
    "import numpy as np\n",
    "import pandas as pd\n",
    "import matplotlib.pyplot as plt"
   ]
  },
  {
   "cell_type": "code",
   "execution_count": 3,
   "metadata": {},
   "outputs": [],
   "source": [
    "spotify_df = pd.read_csv(\"D:\\Documents\\CSV Datasets\\Spotify Songs\\spotify-2023.csv\", encoding='ISO-8859-1')"
   ]
  }
 ],
 "metadata": {
  "kernelspec": {
   "display_name": "Python 3",
   "language": "python",
   "name": "python3"
  },
  "language_info": {
   "codemirror_mode": {
    "name": "ipython",
    "version": 3
   },
   "file_extension": ".py",
   "mimetype": "text/x-python",
   "name": "python",
   "nbconvert_exporter": "python",
   "pygments_lexer": "ipython3",
   "version": "3.11.6"
  }
 },
 "nbformat": 4,
 "nbformat_minor": 2
}
